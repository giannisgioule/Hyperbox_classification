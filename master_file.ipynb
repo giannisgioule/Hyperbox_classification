{
 "cells": [
  {
   "cell_type": "code",
   "execution_count": null,
   "metadata": {},
   "outputs": [],
   "source": [
    "from GAMS_Hyperbox import GamsHyperboxClassifier\n",
    "\n",
    "from sklearn.preprocessing import MinMaxScaler\n",
    "from sklearn.model_selection import train_test_split\n",
    "from sklearn.metrics import accuracy_score\n",
    "from sklearn.datasets import load_breast_cancer\n",
    "\n",
    "import os"
   ]
  },
  {
   "cell_type": "code",
   "execution_count": null,
   "metadata": {},
   "outputs": [],
   "source": [
    "X=load_breast_cancer()['data']\n",
    "y=load_breast_cancer()['target']\n",
    "\n",
    "#=================================================\n",
    "# The method requires the user to scale the data\n",
    "# to the range of (0,1)\n",
    "#=================================================\n",
    "scaler=MinMaxScaler(feature_range=(0,1))\n",
    "scaler.fit(X)\n",
    "scaled_X=scaler.transform(X)\n",
    "#=================================================\n",
    "\n",
    "X_train,X_validation,y_train,y_validation=train_test_split(scaled_X,y,test_size=0.2,random_state=1)"
   ]
  },
  {
   "cell_type": "code",
   "execution_count": null,
   "metadata": {},
   "outputs": [],
   "source": [
    "hc=GamsHyperboxClassifier()\n",
    "hc.fit(X_train,y_train)"
   ]
  },
  {
   "cell_type": "code",
   "execution_count": null,
   "metadata": {},
   "outputs": [],
   "source": [
    "y_pred=hc.predict(X_validation)\n",
    "\n",
    "y_validation=list(map(str,y_validation))\n",
    "\n",
    "class_accuracy=accuracy_score(y_true=y_validation,y_pred=y_pred,normalize=True)\n",
    "print(\"Classification accuracy: {} %\".format(round(class_accuracy*100,1)))"
   ]
  }
 ],
 "metadata": {
  "kernelspec": {
   "display_name": "Python 3",
   "language": "python",
   "name": "python3"
  },
  "language_info": {
   "codemirror_mode": {
    "name": "ipython",
    "version": 3
   },
   "file_extension": ".py",
   "mimetype": "text/x-python",
   "name": "python",
   "nbconvert_exporter": "python",
   "pygments_lexer": "ipython3",
   "version": "3.6.5"
  }
 },
 "nbformat": 4,
 "nbformat_minor": 2
}
