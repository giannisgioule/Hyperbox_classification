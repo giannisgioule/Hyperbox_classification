{
 "cells": [
  {
   "cell_type": "code",
   "execution_count": null,
   "metadata": {},
   "outputs": [],
   "source": [
    "import gdxpds as gd\n",
    "import pandas as pd\n",
    "import numpy as np\n",
    "import os\n",
    "from sklearn.preprocessing import MinMaxScaler\n",
    "from sklearn.model_selection import train_test_split\n",
    "from sklearn.metrics import accuracy_score\n",
    "from GAMS_Hyperbox import GamsHyperboxClassifier"
   ]
  },
  {
   "cell_type": "code",
   "execution_count": null,
   "metadata": {},
   "outputs": [],
   "source": [
    "dataset=pd.read_csv(\"C:/Users/Ioannis/Desktop/Datasets/Classification/Compound.csv\")\n",
    "\n",
    "number_predictors=dataset.shape[1]-1 # The number of predictors in the set\n",
    "attribute_names=dataset.columns[0:number_predictors]\n",
    "X=dataset.iloc[:,0:number_predictors]\n",
    "# Y=dataset.iloc[:,(dataset.shape[1]-1)]\n",
    "\n",
    "#=================================================\n",
    "# Define the scaler function and scale the input\n",
    "# variables\n",
    "#=================================================\n",
    "scaler=MinMaxScaler()\n",
    "scaler.fit(X)\n",
    "std_X=scaler.transform(X)\n",
    "# Define it as a pandas DataFrame to work with \n",
    "# the gdxpds library\n",
    "std_X=pd.DataFrame(std_X)\n",
    "#=================================================\n",
    "\n",
    "# Change the column names to match original data\n",
    "std_X.columns=attribute_names\n",
    "dataset.iloc[:,0:number_predictors]=std_X\n",
    "\n",
    "target=dataset.iloc[:,len(dataset.columns)-1]\n",
    "\n",
    "X_train,X_validation,y_train,y_validation=train_test_split(dataset,target,test_size=0.2,random_state=14)\n",
    "y_validation=list(map(str,y_validation))"
   ]
  },
  {
   "cell_type": "code",
   "execution_count": null,
   "metadata": {},
   "outputs": [],
   "source": [
    "X_in=X_train.drop(['class'], axis=1)\n",
    "y_in=X_train['class']\n",
    "y_in=list(map(str,y_in))"
   ]
  },
  {
   "cell_type": "code",
   "execution_count": null,
   "metadata": {},
   "outputs": [],
   "source": [
    "GHC=GamsHyperboxClassifier()\n",
    "GHC.fit(X_in,y_in)"
   ]
  },
  {
   "cell_type": "code",
   "execution_count": null,
   "metadata": {},
   "outputs": [],
   "source": [
    "X_valid=X_validation.drop(['class'],axis=1)\n",
    "y_valid=X_validation['class']\n",
    "y_valid=list(map(str,y_valid))\n",
    "predictions=GHC.predict(X_valid)"
   ]
  },
  {
   "cell_type": "code",
   "execution_count": null,
   "metadata": {},
   "outputs": [],
   "source": [
    "percentage_correctly_classified=accuracy_score(y_true=y_valid,y_pred=predictions,normalize=True)\n",
    "\n",
    "print(\"Percentage of correctly classified testing samples: {} %\".format(round(percentage_correctly_classified*100,1)))"
   ]
  }
 ],
 "metadata": {
  "kernelspec": {
   "display_name": "Python 3",
   "language": "python",
   "name": "python3"
  },
  "language_info": {
   "codemirror_mode": {
    "name": "ipython",
    "version": 3
   },
   "file_extension": ".py",
   "mimetype": "text/x-python",
   "name": "python",
   "nbconvert_exporter": "python",
   "pygments_lexer": "ipython3",
   "version": "3.6.5"
  }
 },
 "nbformat": 4,
 "nbformat_minor": 2
}
