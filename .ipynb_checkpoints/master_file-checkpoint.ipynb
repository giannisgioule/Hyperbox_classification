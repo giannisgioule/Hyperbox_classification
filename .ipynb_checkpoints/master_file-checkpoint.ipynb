{
 "cells": [
  {
   "cell_type": "code",
   "execution_count": null,
   "metadata": {},
   "outputs": [],
   "source": [
    "import gdxpds as gd\n",
    "import pandas as pd\n",
    "from sklearn.preprocessing import MinMaxScaler\n",
    "from gdx_generation import generate_gdx"
   ]
  },
  {
   "cell_type": "code",
   "execution_count": null,
   "metadata": {},
   "outputs": [],
   "source": [
    "trainset=pd.read_csv(\"C:/Users/Ioannis/Desktop/Datasets/Classification/synthetic_2.csv\")"
   ]
  },
  {
   "cell_type": "code",
   "execution_count": null,
   "metadata": {},
   "outputs": [],
   "source": [
    "number_predictors=trainset.shape[1]-1 # The number of predictors in the set\n",
    "attribute_names=trainset.columns[0:number_predictors]\n",
    "X=trainset.iloc[:,0:number_predictors]"
   ]
  },
  {
   "cell_type": "code",
   "execution_count": null,
   "metadata": {},
   "outputs": [],
   "source": [
    "#=================================================\n",
    "# Define the scaler function and scale the input\n",
    "# variables\n",
    "#=================================================\n",
    "scaler=MinMaxScaler()\n",
    "scaler.fit(X)\n",
    "std_X=scaler.transform(X)\n",
    "# Define it as a pandas DataFrame to work with \n",
    "# the gdxpds library\n",
    "std_X=pd.DataFrame(std_X)\n",
    "#=================================================\n",
    "\n",
    "# Change the column names to match original data\n",
    "std_X.columns=attribute_names\n",
    "trainset.iloc[:,0:number_predictors]=std_X"
   ]
  },
  {
   "cell_type": "code",
   "execution_count": null,
   "metadata": {},
   "outputs": [],
   "source": [
    "generate_gdx(trainset)"
   ]
  },
  {
   "cell_type": "code",
   "execution_count": null,
   "metadata": {},
   "outputs": [],
   "source": [
    "import matplotlib.pyplot as plt\n",
    "\n",
    "plt.figure(dpi=150)\n",
    "plt.scatter(trainset.iloc[:,0],trainset.iloc[:,1],c=trainset.iloc[:,2])"
   ]
  }
 ],
 "metadata": {
  "kernelspec": {
   "display_name": "Python 3",
   "language": "python",
   "name": "python3"
  },
  "language_info": {
   "codemirror_mode": {
    "name": "ipython",
    "version": 3
   },
   "file_extension": ".py",
   "mimetype": "text/x-python",
   "name": "python",
   "nbconvert_exporter": "python",
   "pygments_lexer": "ipython3",
   "version": "3.6.5"
  }
 },
 "nbformat": 4,
 "nbformat_minor": 2
}
