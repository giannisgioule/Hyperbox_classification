{
 "cells": [
  {
   "cell_type": "code",
   "execution_count": 1,
   "metadata": {},
   "outputs": [],
   "source": [
    "import gdxpds as gd\n",
    "import pandas as pd\n",
    "import numpy as np\n",
    "import os\n",
    "from scipy.spatial import distance\n",
    "from sklearn.preprocessing import MinMaxScaler\n",
    "from sklearn.model_selection import train_test_split\n",
    "from gdx_generation import generate_gdx\n",
    "from operator import itemgetter\n",
    "from sklearn.metrics import accuracy_score\n",
    "from GAMS_Hyperbox import GamsHyperboxClassifier"
   ]
  },
  {
   "cell_type": "code",
   "execution_count": 15,
   "metadata": {},
   "outputs": [],
   "source": [
    "dataset=pd.read_csv(\"C:/Users/Ioannis/Desktop/Datasets/Classification/pathbased.csv\")\n",
    "\n",
    "number_predictors=dataset.shape[1]-1 # The number of predictors in the set\n",
    "attribute_names=dataset.columns[0:number_predictors]\n",
    "X=dataset.iloc[:,0:number_predictors]\n",
    "# Y=dataset.iloc[:,(dataset.shape[1]-1)]\n",
    "\n",
    "#=================================================\n",
    "# Define the scaler function and scale the input\n",
    "# variables\n",
    "#=================================================\n",
    "scaler=MinMaxScaler()\n",
    "scaler.fit(X)\n",
    "std_X=scaler.transform(X)\n",
    "# Define it as a pandas DataFrame to work with \n",
    "# the gdxpds library\n",
    "std_X=pd.DataFrame(std_X)\n",
    "#=================================================\n",
    "\n",
    "# Change the column names to match original data\n",
    "std_X.columns=attribute_names\n",
    "dataset.iloc[:,0:number_predictors]=std_X\n",
    "\n",
    "target=dataset.iloc[:,len(dataset.columns)-1]\n",
    "\n",
    "# X_train,X_test,y_train,y_test=train_test_split(dataset,target,test_size=0.2,random_state=50)\n",
    "# y_test=list(map(str,y_test))"
   ]
  },
  {
   "cell_type": "code",
   "execution_count": 16,
   "metadata": {},
   "outputs": [
    {
     "name": "stdout",
     "output_type": "stream",
     "text": [
      "GAMS Classifier testing scores: [66.7, 81.7, 75.0, 76.7, 78.3]\n"
     ]
    }
   ],
   "source": [
    "states=[50,250,1045,93,14]\n",
    "\n",
    "Score_GAMS_Classifier=[]\n",
    "for i in range(0,5):\n",
    "    \n",
    "    X_train,X_test,y_train,y_test=train_test_split(dataset,target,test_size=0.2,random_state=states[i])\n",
    "    y_test=list(map(str,y_test))\n",
    "    GHC=GamsHyperboxClassifier()\n",
    "    boxes=GHC.fit(X_train)\n",
    "    predictions=GHC.predict(boxes,X_test)\n",
    "    Score_GAMS_Classifier.append(round(accuracy_score(y_true=y_test,y_pred=predictions,normalize=True)*100,1))\n",
    "    \n",
    "print(\"GAMS Classifier testing scores: {}\".format(Score_GAMS_Classifier))"
   ]
  }
 ],
 "metadata": {
  "kernelspec": {
   "display_name": "Python 3",
   "language": "python",
   "name": "python3"
  },
  "language_info": {
   "codemirror_mode": {
    "name": "ipython",
    "version": 3
   },
   "file_extension": ".py",
   "mimetype": "text/x-python",
   "name": "python",
   "nbconvert_exporter": "python",
   "pygments_lexer": "ipython3",
   "version": "3.6.5"
  }
 },
 "nbformat": 4,
 "nbformat_minor": 2
}
